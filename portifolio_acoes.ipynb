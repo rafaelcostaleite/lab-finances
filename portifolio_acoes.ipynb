{
  "nbformat": 4,
  "nbformat_minor": 0,
  "metadata": {
    "colab": {
      "name": "portifolio_acoes.ipynb",
      "provenance": [],
      "authorship_tag": "ABX9TyN37MapygsJ7/bv9KExdo1q",
      "include_colab_link": true
    },
    "kernelspec": {
      "name": "python3",
      "display_name": "Python 3"
    }
  },
  "cells": [
    {
      "cell_type": "markdown",
      "metadata": {
        "id": "view-in-github",
        "colab_type": "text"
      },
      "source": [
        "<a href=\"https://colab.research.google.com/github/rafaelcostaleite/lab-finances/blob/main/portifolio_acoes.ipynb\" target=\"_parent\"><img src=\"https://colab.research.google.com/assets/colab-badge.svg\" alt=\"Open In Colab\"/></a>"
      ]
    },
    {
      "cell_type": "code",
      "metadata": {
        "id": "mWpk5bw0woeg"
      },
      "source": [
        "#autentica no Google Drive\n",
        "from google.colab import auth\n",
        "auth.authenticate_user()\n",
        "import gspread\n",
        "from oauth2client.client import GoogleCredentials\n",
        "gc = gspread.authorize(GoogleCredentials.get_application_default())"
      ],
      "execution_count": null,
      "outputs": []
    },
    {
      "cell_type": "code",
      "metadata": {
        "id": "nAt6O1NZwvRd"
      },
      "source": [
        "import numpy as np\n",
        "import pandas as pd\n",
        "import matplotlib as mp\n",
        "import random as rd\n",
        "import statsmodels as st\n",
        "import pandas_datareader as dt"
      ],
      "execution_count": null,
      "outputs": []
    },
    {
      "cell_type": "code",
      "metadata": {
        "id": "5RnOOtwcxCz9",
        "outputId": "723084ba-1a20-440f-b770-369d4754fc4b",
        "colab": {
          "base_uri": "https://localhost:8080/",
          "height": 306
        }
      },
      "source": [
        "#Importa a planilha\n",
        "planilha = 'https://docs.google.com/spreadsheets/d/1rDGXWfo0mQ070AmhmnzfO684ribvz6jFcV7E5UZRCMI/edit#gid=1432567376'\n",
        "aba = 'Corretagem'\n",
        "\n",
        "wb = gc.open_by_url(planilha)\n",
        "sheet = wb.worksheet(aba)\n",
        "data = sheet.get_all_values()\n",
        "\n",
        "#Cria DataFrame. Obs: tds os dados são string\n",
        "data_df = pd.DataFrame(data)\n",
        "\n",
        "#Transforma primeira coluna e linha\n",
        "data_df.columns = data_df.iloc[0]\n",
        "data_df = data_df.iloc[1:]\n",
        "data_df.head()"
      ],
      "execution_count": null,
      "outputs": [
        {
          "output_type": "execute_result",
          "data": {
            "text/html": [
              "<div>\n",
              "<style scoped>\n",
              "    .dataframe tbody tr th:only-of-type {\n",
              "        vertical-align: middle;\n",
              "    }\n",
              "\n",
              "    .dataframe tbody tr th {\n",
              "        vertical-align: top;\n",
              "    }\n",
              "\n",
              "    .dataframe thead th {\n",
              "        text-align: right;\n",
              "    }\n",
              "</style>\n",
              "<table border=\"1\" class=\"dataframe\">\n",
              "  <thead>\n",
              "    <tr style=\"text-align: right;\">\n",
              "      <th></th>\n",
              "      <th>Banco</th>\n",
              "      <th>Cliente</th>\n",
              "      <th>Assessor</th>\n",
              "      <th>Nr. Nota</th>\n",
              "      <th>Data pregão</th>\n",
              "      <th>Tipo</th>\n",
              "      <th>Segmento</th>\n",
              "      <th>Titulo</th>\n",
              "      <th>Quantidade</th>\n",
              "      <th>Preço</th>\n",
              "      <th>Total</th>\n",
              "      <th>Operação</th>\n",
              "      <th>Today</th>\n",
              "      <th>Posição</th>\n",
              "      <th>Variação</th>\n",
              "    </tr>\n",
              "  </thead>\n",
              "  <tbody>\n",
              "    <tr>\n",
              "      <th>1</th>\n",
              "      <td>746</td>\n",
              "      <td>1982-8 1630552-6</td>\n",
              "      <td>1012</td>\n",
              "      <td>204230</td>\n",
              "      <td>07/02/2020</td>\n",
              "      <td>Fundos</td>\n",
              "      <td>Títulos Imobiliários</td>\n",
              "      <td>BCFF11</td>\n",
              "      <td>1</td>\n",
              "      <td>100,32</td>\n",
              "      <td>100,32</td>\n",
              "      <td>Compra</td>\n",
              "      <td>90,68</td>\n",
              "      <td>90,68</td>\n",
              "      <td>(9,64)</td>\n",
              "    </tr>\n",
              "    <tr>\n",
              "      <th>2</th>\n",
              "      <td>746</td>\n",
              "      <td>1982-8 1630552-6</td>\n",
              "      <td>1012</td>\n",
              "      <td>204230</td>\n",
              "      <td>07/02/2020</td>\n",
              "      <td>Fundos</td>\n",
              "      <td>Logística</td>\n",
              "      <td>SDIL11</td>\n",
              "      <td>1</td>\n",
              "      <td>117,8</td>\n",
              "      <td>117,80</td>\n",
              "      <td>Compra</td>\n",
              "      <td>101,74</td>\n",
              "      <td>101,74</td>\n",
              "      <td>(16,06)</td>\n",
              "    </tr>\n",
              "    <tr>\n",
              "      <th>3</th>\n",
              "      <td>746</td>\n",
              "      <td>1982-8 1630552-6</td>\n",
              "      <td>1012</td>\n",
              "      <td>560247</td>\n",
              "      <td>08/04/2020</td>\n",
              "      <td>Fundos</td>\n",
              "      <td>Títulos Imobiliários</td>\n",
              "      <td>BCFF11</td>\n",
              "      <td>12</td>\n",
              "      <td>80,54</td>\n",
              "      <td>966,48</td>\n",
              "      <td>Compra</td>\n",
              "      <td>90,68</td>\n",
              "      <td>1.088,16</td>\n",
              "      <td>121,68</td>\n",
              "    </tr>\n",
              "    <tr>\n",
              "      <th>4</th>\n",
              "      <td>746</td>\n",
              "      <td>1982-8 1630552-6</td>\n",
              "      <td>1012</td>\n",
              "      <td>560247</td>\n",
              "      <td>08/04/2020</td>\n",
              "      <td>Fundos</td>\n",
              "      <td>Logística</td>\n",
              "      <td>SDIL11</td>\n",
              "      <td>10</td>\n",
              "      <td>94,8</td>\n",
              "      <td>948,00</td>\n",
              "      <td>Compra</td>\n",
              "      <td>101,74</td>\n",
              "      <td>1.017,40</td>\n",
              "      <td>69,40</td>\n",
              "    </tr>\n",
              "    <tr>\n",
              "      <th>5</th>\n",
              "      <td>746</td>\n",
              "      <td>1982-8 1630552-6</td>\n",
              "      <td>1012</td>\n",
              "      <td>560247</td>\n",
              "      <td>08/04/2020</td>\n",
              "      <td>Ações</td>\n",
              "      <td>Bancos</td>\n",
              "      <td>ITSA4</td>\n",
              "      <td>100</td>\n",
              "      <td>9,37</td>\n",
              "      <td>937,00</td>\n",
              "      <td>Compra</td>\n",
              "      <td>9,02</td>\n",
              "      <td>902,00</td>\n",
              "      <td>(35,00)</td>\n",
              "    </tr>\n",
              "  </tbody>\n",
              "</table>\n",
              "</div>"
            ],
            "text/plain": [
              "0 Banco           Cliente Assessor Nr. Nota  ... Operação   Today   Posição Variação\n",
              "1   746  1982-8 1630552-6     1012   204230  ...   Compra   90,68     90,68   (9,64)\n",
              "2   746  1982-8 1630552-6     1012   204230  ...   Compra  101,74    101,74  (16,06)\n",
              "3   746  1982-8 1630552-6     1012   560247  ...   Compra   90,68  1.088,16   121,68\n",
              "4   746  1982-8 1630552-6     1012   560247  ...   Compra  101,74  1.017,40    69,40\n",
              "5   746  1982-8 1630552-6     1012   560247  ...   Compra    9,02    902,00  (35,00)\n",
              "\n",
              "[5 rows x 15 columns]"
            ]
          },
          "metadata": {
            "tags": []
          },
          "execution_count": 91
        }
      ]
    },
    {
      "cell_type": "code",
      "metadata": {
        "id": "HNJQBrW8KlUV"
      },
      "source": [
        "#Tratamento de dados\n",
        "data_df['Posição'] = data_df['Posição'].apply(lambda x: '0' if x == '#N/A' else x)\n",
        "data_df['Posição'] = data_df['Posição'].apply(lambda x: x.replace('.',''))\n",
        "data_df['Posição'] = data_df['Posição'].apply(lambda x: x.replace(',','.'))\n"
      ],
      "execution_count": null,
      "outputs": []
    },
    {
      "cell_type": "code",
      "metadata": {
        "id": "oFS6jmQexdIb",
        "outputId": "c519aacc-c835-45ca-dcc7-920c0586b961",
        "colab": {
          "base_uri": "https://localhost:8080/",
          "height": 355
        }
      },
      "source": [
        "#Cria novo DataFrame com os tipos de dados definidos\n",
        "new_data_df = {\n",
        "'Stock': data_df['Titulo'].astype(str),\n",
        "'Tipo': data_df['Tipo'].astype(str),\n",
        "'Segmento': data_df['Segmento'].astype(str),\n",
        "'Pos': data_df['Posição'].astype(float),\n",
        "}\n",
        "data_df\n",
        "\n",
        "#Cria novo dataframe para encontrar o peso por ação\n",
        "stock = pd.DataFrame(new_data_df)\n",
        "\n",
        "#Filtra quem tem valor\n",
        "stock = stock[stock.Pos > 0]\n",
        "\n",
        "#Agrupa\n",
        "stock = stock.groupby(['Stock']).sum()\n",
        "\n",
        "stock_tot = stock.sum()\n",
        "stock_tot = stock_tot.tolist()\n",
        "stock_tot = stock_tot[0]\n",
        "stock_tot\n",
        "\n",
        "#Análise do peso por ação\n",
        "stock['Peso'] = stock['Pos']/stock_tot\n",
        "stock = stock.sort_values(by='Peso', ascending=False)\n",
        "stock\n"
      ],
      "execution_count": null,
      "outputs": [
        {
          "output_type": "execute_result",
          "data": {
            "text/html": [
              "<div>\n",
              "<style scoped>\n",
              "    .dataframe tbody tr th:only-of-type {\n",
              "        vertical-align: middle;\n",
              "    }\n",
              "\n",
              "    .dataframe tbody tr th {\n",
              "        vertical-align: top;\n",
              "    }\n",
              "\n",
              "    .dataframe thead th {\n",
              "        text-align: right;\n",
              "    }\n",
              "</style>\n",
              "<table border=\"1\" class=\"dataframe\">\n",
              "  <thead>\n",
              "    <tr style=\"text-align: right;\">\n",
              "      <th></th>\n",
              "      <th>Pos</th>\n",
              "      <th>Peso</th>\n",
              "    </tr>\n",
              "    <tr>\n",
              "      <th>Stock</th>\n",
              "      <th></th>\n",
              "      <th></th>\n",
              "    </tr>\n",
              "  </thead>\n",
              "  <tbody>\n",
              "    <tr>\n",
              "      <th>RECT11</th>\n",
              "      <td>5211.00</td>\n",
              "      <td>0.261895</td>\n",
              "    </tr>\n",
              "    <tr>\n",
              "      <th>BPFF11</th>\n",
              "      <td>3600.96</td>\n",
              "      <td>0.180977</td>\n",
              "    </tr>\n",
              "    <tr>\n",
              "      <th>MFII11</th>\n",
              "      <td>2523.40</td>\n",
              "      <td>0.126821</td>\n",
              "    </tr>\n",
              "    <tr>\n",
              "      <th>QAGR11</th>\n",
              "      <td>2093.50</td>\n",
              "      <td>0.105215</td>\n",
              "    </tr>\n",
              "    <tr>\n",
              "      <th>BBDC4</th>\n",
              "      <td>1978.00</td>\n",
              "      <td>0.099410</td>\n",
              "    </tr>\n",
              "    <tr>\n",
              "      <th>SDIL11</th>\n",
              "      <td>1322.62</td>\n",
              "      <td>0.066472</td>\n",
              "    </tr>\n",
              "    <tr>\n",
              "      <th>BCFF11</th>\n",
              "      <td>1178.84</td>\n",
              "      <td>0.059246</td>\n",
              "    </tr>\n",
              "    <tr>\n",
              "      <th>MXRF11</th>\n",
              "      <td>1087.00</td>\n",
              "      <td>0.054630</td>\n",
              "    </tr>\n",
              "    <tr>\n",
              "      <th>ITSA4</th>\n",
              "      <td>902.00</td>\n",
              "      <td>0.045333</td>\n",
              "    </tr>\n",
              "  </tbody>\n",
              "</table>\n",
              "</div>"
            ],
            "text/plain": [
              "            Pos      Peso\n",
              "Stock                    \n",
              "RECT11  5211.00  0.261895\n",
              "BPFF11  3600.96  0.180977\n",
              "MFII11  2523.40  0.126821\n",
              "QAGR11  2093.50  0.105215\n",
              "BBDC4   1978.00  0.099410\n",
              "SDIL11  1322.62  0.066472\n",
              "BCFF11  1178.84  0.059246\n",
              "MXRF11  1087.00  0.054630\n",
              "ITSA4    902.00  0.045333"
            ]
          },
          "metadata": {
            "tags": []
          },
          "execution_count": 79
        }
      ]
    },
    {
      "cell_type": "code",
      "metadata": {
        "id": "L1n0W98r5YO4",
        "outputId": "2b2a9f84-1e82-409f-e3ae-87f7de6cce3f",
        "colab": {
          "base_uri": "https://localhost:8080/",
          "height": 69
        }
      },
      "source": [
        "  stock.sum()"
      ],
      "execution_count": null,
      "outputs": [
        {
          "output_type": "execute_result",
          "data": {
            "text/plain": [
              "Pos     19897.32\n",
              "Peso        1.00\n",
              "dtype: float64"
            ]
          },
          "metadata": {
            "tags": []
          },
          "execution_count": 80
        }
      ]
    },
    {
      "cell_type": "code",
      "metadata": {
        "id": "jW8EWFMi8epN",
        "outputId": "85698e0e-4126-41cc-ed5d-ef9b75a63ffd",
        "colab": {
          "base_uri": "https://localhost:8080/",
          "height": 483
        }
      },
      "source": [
        "stock.plot.pie(y='Peso', figsize=(8, 8), legend=False)"
      ],
      "execution_count": null,
      "outputs": [
        {
          "output_type": "execute_result",
          "data": {
            "text/plain": [
              "<matplotlib.axes._subplots.AxesSubplot at 0x7fa978cff160>"
            ]
          },
          "metadata": {
            "tags": []
          },
          "execution_count": 92
        },
        {
          "output_type": "display_data",
          "data": {
            "image/png": "[encoded data removed]",
            "text/plain": [
              "<Figure size 576x576 with 1 Axes>"
            ]
          },
          "metadata": {
            "tags": []
          }
        }
      ]
    },
    {
      "cell_type": "code",
      "metadata": {
        "id": "_nsU_86DBpT3",
        "outputId": "04356b32-f8a8-417d-98e7-cef7203688d5",
        "colab": {
          "base_uri": "https://localhost:8080/",
          "height": 263
        }
      },
      "source": [
        "#Cria novo data frame para análise do peso por segmento\n",
        "segmto = pd.DataFrame(new_data_df)\n",
        "segmto = segmto[segmto.Pos > 0]\n",
        "segmto = segmto.groupby(['Segmento']).sum()\n",
        "\n",
        "stock_tot = stock.sum()\n",
        "stock_tot = stock_tot.tolist()\n",
        "stock_tot = stock_tot[0]\n",
        "stock_tot\n",
        "\n",
        "segmto['Peso'] = segmto['Pos']/stock_tot\n",
        "segmto = segmto.sort_values(by='Peso', ascending=False)\n",
        "segmto\n"
      ],
      "execution_count": null,
      "outputs": [
        {
          "output_type": "execute_result",
          "data": {
            "text/html": [
              "<div>\n",
              "<style scoped>\n",
              "    .dataframe tbody tr th:only-of-type {\n",
              "        vertical-align: middle;\n",
              "    }\n",
              "\n",
              "    .dataframe tbody tr th {\n",
              "        vertical-align: top;\n",
              "    }\n",
              "\n",
              "    .dataframe thead th {\n",
              "        text-align: right;\n",
              "    }\n",
              "</style>\n",
              "<table border=\"1\" class=\"dataframe\">\n",
              "  <thead>\n",
              "    <tr style=\"text-align: right;\">\n",
              "      <th></th>\n",
              "      <th>Pos</th>\n",
              "      <th>Peso</th>\n",
              "    </tr>\n",
              "    <tr>\n",
              "      <th>Segmento</th>\n",
              "      <th></th>\n",
              "      <th></th>\n",
              "    </tr>\n",
              "  </thead>\n",
              "  <tbody>\n",
              "    <tr>\n",
              "      <th>Híbrido</th>\n",
              "      <td>8821.40</td>\n",
              "      <td>0.443346</td>\n",
              "    </tr>\n",
              "    <tr>\n",
              "      <th>Outros</th>\n",
              "      <td>3600.96</td>\n",
              "      <td>0.180977</td>\n",
              "    </tr>\n",
              "    <tr>\n",
              "      <th>Bancos</th>\n",
              "      <td>2880.00</td>\n",
              "      <td>0.144743</td>\n",
              "    </tr>\n",
              "    <tr>\n",
              "      <th>Lajes Corporativas</th>\n",
              "      <td>2093.50</td>\n",
              "      <td>0.105215</td>\n",
              "    </tr>\n",
              "    <tr>\n",
              "      <th>Logística</th>\n",
              "      <td>1322.62</td>\n",
              "      <td>0.066472</td>\n",
              "    </tr>\n",
              "    <tr>\n",
              "      <th>Títulos Imobiliários</th>\n",
              "      <td>1178.84</td>\n",
              "      <td>0.059246</td>\n",
              "    </tr>\n",
              "  </tbody>\n",
              "</table>\n",
              "</div>"
            ],
            "text/plain": [
              "                          Pos      Peso\n",
              "Segmento                               \n",
              "Híbrido               8821.40  0.443346\n",
              "Outros                3600.96  0.180977\n",
              "Bancos                2880.00  0.144743\n",
              "Lajes Corporativas    2093.50  0.105215\n",
              "Logística             1322.62  0.066472\n",
              "Títulos Imobiliários  1178.84  0.059246"
            ]
          },
          "metadata": {
            "tags": []
          },
          "execution_count": 82
        }
      ]
    },
    {
      "cell_type": "code",
      "metadata": {
        "id": "lBigGTlAb00o",
        "outputId": "2e028124-c324-469e-80a1-59683e436070",
        "colab": {
          "base_uri": "https://localhost:8080/",
          "height": 483
        }
      },
      "source": [
        "segmto.plot.pie(y='Peso', figsize=(8, 8), legend=False)"
      ],
      "execution_count": null,
      "outputs": [
        {
          "output_type": "execute_result",
          "data": {
            "text/plain": [
              "<matplotlib.axes._subplots.AxesSubplot at 0x7fa9771c1860>"
            ]
          },
          "metadata": {
            "tags": []
          },
          "execution_count": 93
        },
        {
          "output_type": "display_data",
          "data": {
            "image/png": "[encoded data removed]",
            "text/plain": [
              "<Figure size 576x576 with 1 Axes>"
            ]
          },
          "metadata": {
            "tags": []
          }
        }
      ]
    },
    {
      "cell_type": "code",
      "metadata": {
        "id": "L9ircXRlM-W7",
        "outputId": "e8126944-c4fb-4902-e686-04c5d005cd1b",
        "colab": {
          "base_uri": "https://localhost:8080/",
          "height": 191
        }
      },
      "source": [
        "#Lista todos as ações que tenho e remove duplicidades\n",
        "tickets = data_df['Titulo'].drop_duplicates()\n",
        "tickets = tickets.str.lower() + '.sa'\n",
        "\n",
        "tickets"
      ],
      "execution_count": null,
      "outputs": [
        {
          "output_type": "execute_result",
          "data": {
            "text/plain": [
              "1     bcff11.sa\n",
              "2     sdil11.sa\n",
              "5      itsa4.sa\n",
              "6      bbdc4.sa\n",
              "7     bpff11.sa\n",
              "9     mxrf11.sa\n",
              "11    mfii11.sa\n",
              "12    rect11.sa\n",
              "22    qagr11.sa\n",
              "Name: Titulo, dtype: object"
            ]
          },
          "metadata": {
            "tags": []
          },
          "execution_count": 83
        }
      ]
    },
    {
      "cell_type": "code",
      "metadata": {
        "id": "JjcvB3QNQIma",
        "outputId": "b1be5aaa-4c37-4b7b-d764-10e9a268316f",
        "colab": {
          "base_uri": "https://localhost:8080/",
          "height": 510
        }
      },
      "source": [
        "#Carrega dados históricos dos tickets\n",
        "data_hist = pd.DataFrame()\n",
        "for t in tickets:\n",
        "  data_hist[t] = dt.DataReader(t, data_source='yahoo', start='2010-1-1')['Adj Close']\n",
        "\n",
        "data_hist.info()\n",
        "\n",
        "data_hist.tail()"
      ],
      "execution_count": null,
      "outputs": [
        {
          "output_type": "stream",
          "text": [
            "<class 'pandas.core.frame.DataFrame'>\n",
            "DatetimeIndex: 652 entries, 2017-09-27 to 2020-09-25\n",
            "Data columns (total 9 columns):\n",
            " #   Column     Non-Null Count  Dtype  \n",
            "---  ------     --------------  -----  \n",
            " 0   bcff11.sa  652 non-null    float64\n",
            " 1   sdil11.sa  652 non-null    float64\n",
            " 2   itsa4.sa   652 non-null    float64\n",
            " 3   bbdc4.sa   652 non-null    float64\n",
            " 4   bpff11.sa  652 non-null    float64\n",
            " 5   mxrf11.sa  652 non-null    float64\n",
            " 6   mfii11.sa  652 non-null    float64\n",
            " 7   rect11.sa  264 non-null    float64\n",
            " 8   qagr11.sa  109 non-null    float64\n",
            "dtypes: float64(9)\n",
            "memory usage: 50.9 KB\n"
          ],
          "name": "stdout"
        },
        {
          "output_type": "execute_result",
          "data": {
            "text/html": [
              "<div>\n",
              "<style scoped>\n",
              "    .dataframe tbody tr th:only-of-type {\n",
              "        vertical-align: middle;\n",
              "    }\n",
              "\n",
              "    .dataframe tbody tr th {\n",
              "        vertical-align: top;\n",
              "    }\n",
              "\n",
              "    .dataframe thead th {\n",
              "        text-align: right;\n",
              "    }\n",
              "</style>\n",
              "<table border=\"1\" class=\"dataframe\">\n",
              "  <thead>\n",
              "    <tr style=\"text-align: right;\">\n",
              "      <th></th>\n",
              "      <th>bcff11.sa</th>\n",
              "      <th>sdil11.sa</th>\n",
              "      <th>itsa4.sa</th>\n",
              "      <th>bbdc4.sa</th>\n",
              "      <th>bpff11.sa</th>\n",
              "      <th>mxrf11.sa</th>\n",
              "      <th>mfii11.sa</th>\n",
              "      <th>rect11.sa</th>\n",
              "      <th>qagr11.sa</th>\n",
              "    </tr>\n",
              "    <tr>\n",
              "      <th>Date</th>\n",
              "      <th></th>\n",
              "      <th></th>\n",
              "      <th></th>\n",
              "      <th></th>\n",
              "      <th></th>\n",
              "      <th></th>\n",
              "      <th></th>\n",
              "      <th></th>\n",
              "      <th></th>\n",
              "    </tr>\n",
              "  </thead>\n",
              "  <tbody>\n",
              "    <tr>\n",
              "      <th>2020-05-27</th>\n",
              "      <td>78.910004</td>\n",
              "      <td>95.290001</td>\n",
              "      <td>9.032753</td>\n",
              "      <td>19.469629</td>\n",
              "      <td>93.849998</td>\n",
              "      <td>10.64</td>\n",
              "      <td>121.970001</td>\n",
              "      <td>90.800003</td>\n",
              "      <td>78.419998</td>\n",
              "    </tr>\n",
              "    <tr>\n",
              "      <th>2020-05-28</th>\n",
              "      <td>78.910004</td>\n",
              "      <td>95.199997</td>\n",
              "      <td>8.923686</td>\n",
              "      <td>19.031212</td>\n",
              "      <td>95.989998</td>\n",
              "      <td>10.81</td>\n",
              "      <td>121.500000</td>\n",
              "      <td>92.599998</td>\n",
              "      <td>78.930000</td>\n",
              "    </tr>\n",
              "    <tr>\n",
              "      <th>2020-05-29</th>\n",
              "      <td>78.910004</td>\n",
              "      <td>95.000000</td>\n",
              "      <td>8.784872</td>\n",
              "      <td>18.881754</td>\n",
              "      <td>97.989998</td>\n",
              "      <td>10.83</td>\n",
              "      <td>123.779999</td>\n",
              "      <td>93.900002</td>\n",
              "      <td>78.989998</td>\n",
              "    </tr>\n",
              "    <tr>\n",
              "      <th>2020-06-01</th>\n",
              "      <td>78.910004</td>\n",
              "      <td>92.260002</td>\n",
              "      <td>9.013439</td>\n",
              "      <td>19.728689</td>\n",
              "      <td>95.720001</td>\n",
              "      <td>10.74</td>\n",
              "      <td>122.370003</td>\n",
              "      <td>96.959999</td>\n",
              "      <td>80.739998</td>\n",
              "    </tr>\n",
              "    <tr>\n",
              "      <th>2020-09-25</th>\n",
              "      <td>90.680000</td>\n",
              "      <td>101.739998</td>\n",
              "      <td>9.020000</td>\n",
              "      <td>19.780001</td>\n",
              "      <td>81.839996</td>\n",
              "      <td>10.87</td>\n",
              "      <td>126.169998</td>\n",
              "      <td>96.500000</td>\n",
              "      <td>83.739998</td>\n",
              "    </tr>\n",
              "  </tbody>\n",
              "</table>\n",
              "</div>"
            ],
            "text/plain": [
              "            bcff11.sa   sdil11.sa  itsa4.sa  ...   mfii11.sa  rect11.sa  qagr11.sa\n",
              "Date                                         ...                                  \n",
              "2020-05-27  78.910004   95.290001  9.032753  ...  121.970001  90.800003  78.419998\n",
              "2020-05-28  78.910004   95.199997  8.923686  ...  121.500000  92.599998  78.930000\n",
              "2020-05-29  78.910004   95.000000  8.784872  ...  123.779999  93.900002  78.989998\n",
              "2020-06-01  78.910004   92.260002  9.013439  ...  122.370003  96.959999  80.739998\n",
              "2020-09-25  90.680000  101.739998  9.020000  ...  126.169998  96.500000  83.739998\n",
              "\n",
              "[5 rows x 9 columns]"
            ]
          },
          "metadata": {
            "tags": []
          },
          "execution_count": 84
        }
      ]
    },
    {
      "cell_type": "code",
      "metadata": {
        "id": "kqfKuUUYTwPd",
        "outputId": "c19ed349-60f8-4a3e-b7ea-ad16748967bf",
        "colab": {
          "base_uri": "https://localhost:8080/",
          "height": 233
        }
      },
      "source": [
        "returns = np.log(data_hist/data_hist.shift(1))\n",
        "\n",
        "returns.tail()"
      ],
      "execution_count": null,
      "outputs": [
        {
          "output_type": "execute_result",
          "data": {
            "text/html": [
              "<div>\n",
              "<style scoped>\n",
              "    .dataframe tbody tr th:only-of-type {\n",
              "        vertical-align: middle;\n",
              "    }\n",
              "\n",
              "    .dataframe tbody tr th {\n",
              "        vertical-align: top;\n",
              "    }\n",
              "\n",
              "    .dataframe thead th {\n",
              "        text-align: right;\n",
              "    }\n",
              "</style>\n",
              "<table border=\"1\" class=\"dataframe\">\n",
              "  <thead>\n",
              "    <tr style=\"text-align: right;\">\n",
              "      <th></th>\n",
              "      <th>bcff11.sa</th>\n",
              "      <th>sdil11.sa</th>\n",
              "      <th>itsa4.sa</th>\n",
              "      <th>bbdc4.sa</th>\n",
              "      <th>bpff11.sa</th>\n",
              "      <th>mxrf11.sa</th>\n",
              "      <th>mfii11.sa</th>\n",
              "      <th>rect11.sa</th>\n",
              "      <th>qagr11.sa</th>\n",
              "    </tr>\n",
              "    <tr>\n",
              "      <th>Date</th>\n",
              "      <th></th>\n",
              "      <th></th>\n",
              "      <th></th>\n",
              "      <th></th>\n",
              "      <th></th>\n",
              "      <th></th>\n",
              "      <th></th>\n",
              "      <th></th>\n",
              "      <th></th>\n",
              "    </tr>\n",
              "  </thead>\n",
              "  <tbody>\n",
              "    <tr>\n",
              "      <th>2020-05-27</th>\n",
              "      <td>0.000000</td>\n",
              "      <td>0.007479</td>\n",
              "      <td>0.021077</td>\n",
              "      <td>0.017033</td>\n",
              "      <td>0.015138</td>\n",
              "      <td>0.007547</td>\n",
              "      <td>0.016200</td>\n",
              "      <td>0.014644</td>\n",
              "      <td>-0.013049</td>\n",
              "    </tr>\n",
              "    <tr>\n",
              "      <th>2020-05-28</th>\n",
              "      <td>0.000000</td>\n",
              "      <td>-0.000945</td>\n",
              "      <td>-0.012148</td>\n",
              "      <td>-0.022775</td>\n",
              "      <td>0.022546</td>\n",
              "      <td>0.015851</td>\n",
              "      <td>-0.003861</td>\n",
              "      <td>0.019630</td>\n",
              "      <td>0.006482</td>\n",
              "    </tr>\n",
              "    <tr>\n",
              "      <th>2020-05-29</th>\n",
              "      <td>0.000000</td>\n",
              "      <td>-0.002103</td>\n",
              "      <td>-0.015678</td>\n",
              "      <td>-0.007884</td>\n",
              "      <td>0.020621</td>\n",
              "      <td>0.001848</td>\n",
              "      <td>0.018592</td>\n",
              "      <td>0.013941</td>\n",
              "      <td>0.000760</td>\n",
              "    </tr>\n",
              "    <tr>\n",
              "      <th>2020-06-01</th>\n",
              "      <td>0.000000</td>\n",
              "      <td>-0.029266</td>\n",
              "      <td>0.025686</td>\n",
              "      <td>0.043878</td>\n",
              "      <td>-0.023438</td>\n",
              "      <td>-0.008345</td>\n",
              "      <td>-0.011457</td>\n",
              "      <td>0.032068</td>\n",
              "      <td>0.021913</td>\n",
              "    </tr>\n",
              "    <tr>\n",
              "      <th>2020-09-25</th>\n",
              "      <td>0.139029</td>\n",
              "      <td>0.097810</td>\n",
              "      <td>0.000728</td>\n",
              "      <td>0.002597</td>\n",
              "      <td>-0.156661</td>\n",
              "      <td>0.012032</td>\n",
              "      <td>0.030581</td>\n",
              "      <td>-0.004756</td>\n",
              "      <td>0.036483</td>\n",
              "    </tr>\n",
              "  </tbody>\n",
              "</table>\n",
              "</div>"
            ],
            "text/plain": [
              "            bcff11.sa  sdil11.sa  itsa4.sa  ...  mfii11.sa  rect11.sa  qagr11.sa\n",
              "Date                                        ...                                 \n",
              "2020-05-27   0.000000   0.007479  0.021077  ...   0.016200   0.014644  -0.013049\n",
              "2020-05-28   0.000000  -0.000945 -0.012148  ...  -0.003861   0.019630   0.006482\n",
              "2020-05-29   0.000000  -0.002103 -0.015678  ...   0.018592   0.013941   0.000760\n",
              "2020-06-01   0.000000  -0.029266  0.025686  ...  -0.011457   0.032068   0.021913\n",
              "2020-09-25   0.139029   0.097810  0.000728  ...   0.030581  -0.004756   0.036483\n",
              "\n",
              "[5 rows x 9 columns]"
            ]
          },
          "metadata": {
            "tags": []
          },
          "execution_count": 85
        }
      ]
    },
    {
      "cell_type": "code",
      "metadata": {
        "id": "4EvUmj43V20H",
        "outputId": "86eb1f65-935b-49a8-93aa-b4529ce91023",
        "colab": {
          "base_uri": "https://localhost:8080/",
          "height": 191
        }
      },
      "source": [
        "returns.mean()*250"
      ],
      "execution_count": null,
      "outputs": [
        {
          "output_type": "execute_result",
          "data": {
            "text/plain": [
              "bcff11.sa    0.101499\n",
              "sdil11.sa    0.047484\n",
              "itsa4.sa     0.037933\n",
              "bbdc4.sa    -0.049646\n",
              "bpff11.sa   -0.057205\n",
              "mxrf11.sa    0.055692\n",
              "mfii11.sa    0.029990\n",
              "rect11.sa   -0.033201\n",
              "qagr11.sa   -0.521948\n",
              "dtype: float64"
            ]
          },
          "metadata": {
            "tags": []
          },
          "execution_count": 86
        }
      ]
    },
    {
      "cell_type": "code",
      "metadata": {
        "id": "ErGfWcagWJz7",
        "outputId": "10b33ae5-e2fa-4ab8-8b4b-e6f29c7e4516",
        "colab": {
          "base_uri": "https://localhost:8080/",
          "height": 191
        }
      },
      "source": [
        "returns.std()*250**0.5"
      ],
      "execution_count": null,
      "outputs": [
        {
          "output_type": "execute_result",
          "data": {
            "text/plain": [
              "bcff11.sa    0.093459\n",
              "sdil11.sa    0.315878\n",
              "itsa4.sa     0.352655\n",
              "bbdc4.sa     0.412939\n",
              "bpff11.sa    0.291151\n",
              "mxrf11.sa    0.191417\n",
              "mfii11.sa    0.313086\n",
              "rect11.sa    0.251840\n",
              "qagr11.sa    0.465396\n",
              "dtype: float64"
            ]
          },
          "metadata": {
            "tags": []
          },
          "execution_count": 87
        }
      ]
    },
    {
      "cell_type": "code",
      "metadata": {
        "id": "CUUlbRfyWU62",
        "outputId": "6bdc1dd1-bf1c-4216-a33f-62a7130ad750",
        "colab": {
          "base_uri": "https://localhost:8080/",
          "height": 325
        }
      },
      "source": [
        "cov_matrix = returns.cov()*250\n",
        "cov_matrix"
      ],
      "execution_count": null,
      "outputs": [
        {
          "output_type": "execute_result",
          "data": {
            "text/html": [
              "<div>\n",
              "<style scoped>\n",
              "    .dataframe tbody tr th:only-of-type {\n",
              "        vertical-align: middle;\n",
              "    }\n",
              "\n",
              "    .dataframe tbody tr th {\n",
              "        vertical-align: top;\n",
              "    }\n",
              "\n",
              "    .dataframe thead th {\n",
              "        text-align: right;\n",
              "    }\n",
              "</style>\n",
              "<table border=\"1\" class=\"dataframe\">\n",
              "  <thead>\n",
              "    <tr style=\"text-align: right;\">\n",
              "      <th></th>\n",
              "      <th>bcff11.sa</th>\n",
              "      <th>sdil11.sa</th>\n",
              "      <th>itsa4.sa</th>\n",
              "      <th>bbdc4.sa</th>\n",
              "      <th>bpff11.sa</th>\n",
              "      <th>mxrf11.sa</th>\n",
              "      <th>mfii11.sa</th>\n",
              "      <th>rect11.sa</th>\n",
              "      <th>qagr11.sa</th>\n",
              "    </tr>\n",
              "  </thead>\n",
              "  <tbody>\n",
              "    <tr>\n",
              "      <th>bcff11.sa</th>\n",
              "      <td>0.008735</td>\n",
              "      <td>0.005203</td>\n",
              "      <td>-0.000195</td>\n",
              "      <td>0.000366</td>\n",
              "      <td>-0.008487</td>\n",
              "      <td>0.000556</td>\n",
              "      <td>0.001808</td>\n",
              "      <td>-0.000613</td>\n",
              "      <td>0.012529</td>\n",
              "    </tr>\n",
              "    <tr>\n",
              "      <th>sdil11.sa</th>\n",
              "      <td>0.005203</td>\n",
              "      <td>0.099779</td>\n",
              "      <td>0.029817</td>\n",
              "      <td>0.037525</td>\n",
              "      <td>0.033573</td>\n",
              "      <td>0.027341</td>\n",
              "      <td>0.032576</td>\n",
              "      <td>0.062882</td>\n",
              "      <td>0.192642</td>\n",
              "    </tr>\n",
              "    <tr>\n",
              "      <th>itsa4.sa</th>\n",
              "      <td>-0.000195</td>\n",
              "      <td>0.029817</td>\n",
              "      <td>0.124365</td>\n",
              "      <td>0.126726</td>\n",
              "      <td>0.015973</td>\n",
              "      <td>0.023391</td>\n",
              "      <td>0.016766</td>\n",
              "      <td>0.031233</td>\n",
              "      <td>0.075761</td>\n",
              "    </tr>\n",
              "    <tr>\n",
              "      <th>bbdc4.sa</th>\n",
              "      <td>0.000366</td>\n",
              "      <td>0.037525</td>\n",
              "      <td>0.126726</td>\n",
              "      <td>0.170519</td>\n",
              "      <td>0.016166</td>\n",
              "      <td>0.029544</td>\n",
              "      <td>0.022803</td>\n",
              "      <td>0.044077</td>\n",
              "      <td>0.117340</td>\n",
              "    </tr>\n",
              "    <tr>\n",
              "      <th>bpff11.sa</th>\n",
              "      <td>-0.008487</td>\n",
              "      <td>0.033573</td>\n",
              "      <td>0.015973</td>\n",
              "      <td>0.016166</td>\n",
              "      <td>0.084769</td>\n",
              "      <td>0.019039</td>\n",
              "      <td>0.027821</td>\n",
              "      <td>0.040152</td>\n",
              "      <td>0.136757</td>\n",
              "    </tr>\n",
              "    <tr>\n",
              "      <th>mxrf11.sa</th>\n",
              "      <td>0.000556</td>\n",
              "      <td>0.027341</td>\n",
              "      <td>0.023391</td>\n",
              "      <td>0.029544</td>\n",
              "      <td>0.019039</td>\n",
              "      <td>0.036640</td>\n",
              "      <td>0.016321</td>\n",
              "      <td>0.028886</td>\n",
              "      <td>0.069409</td>\n",
              "    </tr>\n",
              "    <tr>\n",
              "      <th>mfii11.sa</th>\n",
              "      <td>0.001808</td>\n",
              "      <td>0.032576</td>\n",
              "      <td>0.016766</td>\n",
              "      <td>0.022803</td>\n",
              "      <td>0.027821</td>\n",
              "      <td>0.016321</td>\n",
              "      <td>0.098023</td>\n",
              "      <td>0.031422</td>\n",
              "      <td>0.100304</td>\n",
              "    </tr>\n",
              "    <tr>\n",
              "      <th>rect11.sa</th>\n",
              "      <td>-0.000613</td>\n",
              "      <td>0.062882</td>\n",
              "      <td>0.031233</td>\n",
              "      <td>0.044077</td>\n",
              "      <td>0.040152</td>\n",
              "      <td>0.028886</td>\n",
              "      <td>0.031422</td>\n",
              "      <td>0.063424</td>\n",
              "      <td>0.081302</td>\n",
              "    </tr>\n",
              "    <tr>\n",
              "      <th>qagr11.sa</th>\n",
              "      <td>0.012529</td>\n",
              "      <td>0.192642</td>\n",
              "      <td>0.075761</td>\n",
              "      <td>0.117340</td>\n",
              "      <td>0.136757</td>\n",
              "      <td>0.069409</td>\n",
              "      <td>0.100304</td>\n",
              "      <td>0.081302</td>\n",
              "      <td>0.216593</td>\n",
              "    </tr>\n",
              "  </tbody>\n",
              "</table>\n",
              "</div>"
            ],
            "text/plain": [
              "           bcff11.sa  sdil11.sa  itsa4.sa  ...  mfii11.sa  rect11.sa  qagr11.sa\n",
              "bcff11.sa   0.008735   0.005203 -0.000195  ...   0.001808  -0.000613   0.012529\n",
              "sdil11.sa   0.005203   0.099779  0.029817  ...   0.032576   0.062882   0.192642\n",
              "itsa4.sa   -0.000195   0.029817  0.124365  ...   0.016766   0.031233   0.075761\n",
              "bbdc4.sa    0.000366   0.037525  0.126726  ...   0.022803   0.044077   0.117340\n",
              "bpff11.sa  -0.008487   0.033573  0.015973  ...   0.027821   0.040152   0.136757\n",
              "mxrf11.sa   0.000556   0.027341  0.023391  ...   0.016321   0.028886   0.069409\n",
              "mfii11.sa   0.001808   0.032576  0.016766  ...   0.098023   0.031422   0.100304\n",
              "rect11.sa  -0.000613   0.062882  0.031233  ...   0.031422   0.063424   0.081302\n",
              "qagr11.sa   0.012529   0.192642  0.075761  ...   0.100304   0.081302   0.216593\n",
              "\n",
              "[9 rows x 9 columns]"
            ]
          },
          "metadata": {
            "tags": []
          },
          "execution_count": 88
        }
      ]
    },
    {
      "cell_type": "code",
      "metadata": {
        "id": "Juubo0TYWe0o",
        "outputId": "c41c2de4-ee54-496f-896a-316a8289e3b3",
        "colab": {
          "base_uri": "https://localhost:8080/",
          "height": 325
        }
      },
      "source": [
        "corr_matrix = returns.corr()\n",
        "corr_matrix"
      ],
      "execution_count": null,
      "outputs": [
        {
          "output_type": "execute_result",
          "data": {
            "text/html": [
              "<div>\n",
              "<style scoped>\n",
              "    .dataframe tbody tr th:only-of-type {\n",
              "        vertical-align: middle;\n",
              "    }\n",
              "\n",
              "    .dataframe tbody tr th {\n",
              "        vertical-align: top;\n",
              "    }\n",
              "\n",
              "    .dataframe thead th {\n",
              "        text-align: right;\n",
              "    }\n",
              "</style>\n",
              "<table border=\"1\" class=\"dataframe\">\n",
              "  <thead>\n",
              "    <tr style=\"text-align: right;\">\n",
              "      <th></th>\n",
              "      <th>bcff11.sa</th>\n",
              "      <th>sdil11.sa</th>\n",
              "      <th>itsa4.sa</th>\n",
              "      <th>bbdc4.sa</th>\n",
              "      <th>bpff11.sa</th>\n",
              "      <th>mxrf11.sa</th>\n",
              "      <th>mfii11.sa</th>\n",
              "      <th>rect11.sa</th>\n",
              "      <th>qagr11.sa</th>\n",
              "    </tr>\n",
              "  </thead>\n",
              "  <tbody>\n",
              "    <tr>\n",
              "      <th>bcff11.sa</th>\n",
              "      <td>1.000000</td>\n",
              "      <td>0.176253</td>\n",
              "      <td>-0.005922</td>\n",
              "      <td>0.009488</td>\n",
              "      <td>-0.311903</td>\n",
              "      <td>0.031074</td>\n",
              "      <td>0.061799</td>\n",
              "      <td>-0.017965</td>\n",
              "      <td>0.127271</td>\n",
              "    </tr>\n",
              "    <tr>\n",
              "      <th>sdil11.sa</th>\n",
              "      <td>0.176253</td>\n",
              "      <td>1.000000</td>\n",
              "      <td>0.267667</td>\n",
              "      <td>0.287687</td>\n",
              "      <td>0.365053</td>\n",
              "      <td>0.452192</td>\n",
              "      <td>0.329392</td>\n",
              "      <td>0.587545</td>\n",
              "      <td>0.658385</td>\n",
              "    </tr>\n",
              "    <tr>\n",
              "      <th>itsa4.sa</th>\n",
              "      <td>-0.005922</td>\n",
              "      <td>0.267667</td>\n",
              "      <td>1.000000</td>\n",
              "      <td>0.870224</td>\n",
              "      <td>0.155565</td>\n",
              "      <td>0.346506</td>\n",
              "      <td>0.151849</td>\n",
              "      <td>0.295344</td>\n",
              "      <td>0.272647</td>\n",
              "    </tr>\n",
              "    <tr>\n",
              "      <th>bbdc4.sa</th>\n",
              "      <td>0.009488</td>\n",
              "      <td>0.287687</td>\n",
              "      <td>0.870224</td>\n",
              "      <td>1.000000</td>\n",
              "      <td>0.134463</td>\n",
              "      <td>0.373763</td>\n",
              "      <td>0.176380</td>\n",
              "      <td>0.328722</td>\n",
              "      <td>0.325645</td>\n",
              "    </tr>\n",
              "    <tr>\n",
              "      <th>bpff11.sa</th>\n",
              "      <td>-0.311903</td>\n",
              "      <td>0.365053</td>\n",
              "      <td>0.155565</td>\n",
              "      <td>0.134463</td>\n",
              "      <td>1.000000</td>\n",
              "      <td>0.341626</td>\n",
              "      <td>0.305203</td>\n",
              "      <td>0.405484</td>\n",
              "      <td>0.506293</td>\n",
              "    </tr>\n",
              "    <tr>\n",
              "      <th>mxrf11.sa</th>\n",
              "      <td>0.031074</td>\n",
              "      <td>0.452192</td>\n",
              "      <td>0.346506</td>\n",
              "      <td>0.373763</td>\n",
              "      <td>0.341626</td>\n",
              "      <td>1.000000</td>\n",
              "      <td>0.272329</td>\n",
              "      <td>0.452817</td>\n",
              "      <td>0.407077</td>\n",
              "    </tr>\n",
              "    <tr>\n",
              "      <th>mfii11.sa</th>\n",
              "      <td>0.061799</td>\n",
              "      <td>0.329392</td>\n",
              "      <td>0.151849</td>\n",
              "      <td>0.176380</td>\n",
              "      <td>0.305203</td>\n",
              "      <td>0.272329</td>\n",
              "      <td>1.000000</td>\n",
              "      <td>0.483116</td>\n",
              "      <td>0.555341</td>\n",
              "    </tr>\n",
              "    <tr>\n",
              "      <th>rect11.sa</th>\n",
              "      <td>-0.017965</td>\n",
              "      <td>0.587545</td>\n",
              "      <td>0.295344</td>\n",
              "      <td>0.328722</td>\n",
              "      <td>0.405484</td>\n",
              "      <td>0.452817</td>\n",
              "      <td>0.483116</td>\n",
              "      <td>1.000000</td>\n",
              "      <td>0.511568</td>\n",
              "    </tr>\n",
              "    <tr>\n",
              "      <th>qagr11.sa</th>\n",
              "      <td>0.127271</td>\n",
              "      <td>0.658385</td>\n",
              "      <td>0.272647</td>\n",
              "      <td>0.325645</td>\n",
              "      <td>0.506293</td>\n",
              "      <td>0.407077</td>\n",
              "      <td>0.555341</td>\n",
              "      <td>0.511568</td>\n",
              "      <td>1.000000</td>\n",
              "    </tr>\n",
              "  </tbody>\n",
              "</table>\n",
              "</div>"
            ],
            "text/plain": [
              "           bcff11.sa  sdil11.sa  itsa4.sa  ...  mfii11.sa  rect11.sa  qagr11.sa\n",
              "bcff11.sa   1.000000   0.176253 -0.005922  ...   0.061799  -0.017965   0.127271\n",
              "sdil11.sa   0.176253   1.000000  0.267667  ...   0.329392   0.587545   0.658385\n",
              "itsa4.sa   -0.005922   0.267667  1.000000  ...   0.151849   0.295344   0.272647\n",
              "bbdc4.sa    0.009488   0.287687  0.870224  ...   0.176380   0.328722   0.325645\n",
              "bpff11.sa  -0.311903   0.365053  0.155565  ...   0.305203   0.405484   0.506293\n",
              "mxrf11.sa   0.031074   0.452192  0.346506  ...   0.272329   0.452817   0.407077\n",
              "mfii11.sa   0.061799   0.329392  0.151849  ...   1.000000   0.483116   0.555341\n",
              "rect11.sa  -0.017965   0.587545  0.295344  ...   0.483116   1.000000   0.511568\n",
              "qagr11.sa   0.127271   0.658385  0.272647  ...   0.555341   0.511568   1.000000\n",
              "\n",
              "[9 rows x 9 columns]"
            ]
          },
          "metadata": {
            "tags": []
          },
          "execution_count": 89
        }
      ]
    },
    {
      "cell_type": "code",
      "metadata": {
        "id": "VyzcsfqkW6Xx",
        "outputId": "0474ee18-5799-4136-9177-9df34d50840b",
        "colab": {
          "base_uri": "https://localhost:8080/",
          "height": 191
        }
      },
      "source": [
        "corr_matrix.mean()"
      ],
      "execution_count": null,
      "outputs": [
        {
          "output_type": "execute_result",
          "data": {
            "text/plain": [
              "bcff11.sa    0.118900\n",
              "sdil11.sa    0.458241\n",
              "itsa4.sa     0.372653\n",
              "bbdc4.sa     0.389597\n",
              "bpff11.sa    0.322421\n",
              "mxrf11.sa    0.408598\n",
              "mfii11.sa    0.370601\n",
              "rect11.sa    0.449626\n",
              "qagr11.sa    0.484914\n",
              "dtype: float64"
            ]
          },
          "metadata": {
            "tags": []
          },
          "execution_count": 90
        }
      ]
    },
    {
      "cell_type": "code",
      "metadata": {
        "id": "FzRt3-5bXGpH"
      },
      "source": [
        ""
      ],
      "execution_count": null,
      "outputs": []
    }
  ]
}